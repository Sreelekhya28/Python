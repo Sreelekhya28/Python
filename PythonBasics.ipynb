{
  "nbformat": 4,
  "nbformat_minor": 0,
  "metadata": {
    "colab": {
      "name": "Untitled1.ipynb",
      "provenance": [],
      "collapsed_sections": [],
      "authorship_tag": "ABX9TyNW31GOe3BvvworsRoSSmU4",
      "include_colab_link": true
    },
    "kernelspec": {
      "name": "python3",
      "display_name": "Python 3"
    }
  },
  "cells": [
    {
      "cell_type": "markdown",
      "metadata": {
        "id": "view-in-github",
        "colab_type": "text"
      },
      "source": [
        "<a href=\"https://colab.research.google.com/github/Sreelekhya28/Python/blob/master/PythonBasics.ipynb\" target=\"_parent\"><img src=\"https://colab.research.google.com/assets/colab-badge.svg\" alt=\"Open In Colab\"/></a>"
      ]
    },
    {
      "cell_type": "code",
      "metadata": {
        "id": "y1tz8cEx_8g1",
        "colab_type": "code",
        "colab": {
          "base_uri": "https://localhost:8080/",
          "height": 51
        },
        "outputId": "42def085-a6e6-4047-e1ae-04d46902718f"
      },
      "source": [
        "a=10\n",
        "b=15\n",
        "print(a+b)\n",
        "print('Haha')"
      ],
      "execution_count": null,
      "outputs": [
        {
          "output_type": "stream",
          "text": [
            "25\n",
            "Haha\n"
          ],
          "name": "stdout"
        }
      ]
    },
    {
      "cell_type": "code",
      "metadata": {
        "id": "Mr8DRiOU_93s",
        "colab_type": "code",
        "colab": {
          "base_uri": "https://localhost:8080/",
          "height": 34
        },
        "outputId": "00912fc1-bfc2-430f-d74e-f2f1eb85b3ec"
      },
      "source": [
        "print('You are Awesome')"
      ],
      "execution_count": null,
      "outputs": [
        {
          "output_type": "stream",
          "text": [
            "You are Awesome\n"
          ],
          "name": "stdout"
        }
      ]
    },
    {
      "cell_type": "code",
      "metadata": {
        "id": "Gkna_fxnpgS3",
        "colab_type": "code",
        "colab": {
          "base_uri": "https://localhost:8080/",
          "height": 221
        },
        "outputId": "6ea2a54f-2cb7-4f54-d772-98c21b91ebb7"
      },
      "source": [
        "for i in range(12):\n",
        "  print(i)"
      ],
      "execution_count": null,
      "outputs": [
        {
          "output_type": "stream",
          "text": [
            "0\n",
            "1\n",
            "2\n",
            "3\n",
            "4\n",
            "5\n",
            "6\n",
            "7\n",
            "8\n",
            "9\n",
            "10\n",
            "11\n"
          ],
          "name": "stdout"
        }
      ]
    },
    {
      "cell_type": "code",
      "metadata": {
        "id": "J_tmN0Y-p4hJ",
        "colab_type": "code",
        "colab": {
          "base_uri": "https://localhost:8080/",
          "height": 51
        },
        "outputId": "374f3643-a3db-49cc-c814-aaba9943c7f0"
      },
      "source": [
        "print(\"Hey,I was doing just fine before i met you i think too much and thats an issue but i am okay!\")\n",
        "print(type(\"Hey\"))"
      ],
      "execution_count": null,
      "outputs": [
        {
          "output_type": "stream",
          "text": [
            "Hey,I was doing just fine before i met you i think too much and thats an issue but i am okay!\n",
            "<class 'str'>\n"
          ],
          "name": "stdout"
        }
      ]
    },
    {
      "cell_type": "code",
      "metadata": {
        "id": "PtpR3c0gqBB6",
        "colab_type": "code",
        "colab": {
          "base_uri": "https://localhost:8080/",
          "height": 136
        },
        "outputId": "3e1f1e3f-3c75-4eec-f29f-2dec6d725cef"
      },
      "source": [
        "print(3+2)\n",
        "print(3-2),print(3/2)\n",
        "print(3*2)\n",
        "print(3%2)\n",
        "print(3//2)\n",
        "print(3**2)"
      ],
      "execution_count": null,
      "outputs": [
        {
          "output_type": "stream",
          "text": [
            "5\n",
            "1\n",
            "1.5\n",
            "6\n",
            "1\n",
            "1\n",
            "9\n"
          ],
          "name": "stdout"
        }
      ]
    },
    {
      "cell_type": "code",
      "metadata": {
        "id": "dEvSSpFwqSR8",
        "colab_type": "code",
        "colab": {
          "base_uri": "https://localhost:8080/",
          "height": 51
        },
        "outputId": "bedba099-ad50-4d2e-e0c6-e0e81fb36b4a"
      },
      "source": [
        "list=[1,6,2,4.4,6.4]\n",
        "print(list)\n",
        "print(type(list))"
      ],
      "execution_count": null,
      "outputs": [
        {
          "output_type": "stream",
          "text": [
            "[1, 6, 2, 4.4, 6.4]\n",
            "<class 'list'>\n"
          ],
          "name": "stdout"
        }
      ]
    },
    {
      "cell_type": "code",
      "metadata": {
        "id": "rpYn05eaqmIn",
        "colab_type": "code",
        "colab": {
          "base_uri": "https://localhost:8080/",
          "height": 34
        },
        "outputId": "2bef023f-2d7f-4330-f9a6-2bb76e183a13"
      },
      "source": [
        "list[-1]"
      ],
      "execution_count": null,
      "outputs": [
        {
          "output_type": "execute_result",
          "data": {
            "text/plain": [
              "6.4"
            ]
          },
          "metadata": {
            "tags": []
          },
          "execution_count": 10
        }
      ]
    },
    {
      "cell_type": "code",
      "metadata": {
        "id": "3pTNvHQHqsp5",
        "colab_type": "code",
        "colab": {
          "base_uri": "https://localhost:8080/",
          "height": 34
        },
        "outputId": "42974dc9-7223-4380-ccaa-3efdaa09f1a8"
      },
      "source": [
        "list"
      ],
      "execution_count": null,
      "outputs": [
        {
          "output_type": "execute_result",
          "data": {
            "text/plain": [
              "[1, 6, 2, 4.4, 6.4]"
            ]
          },
          "metadata": {
            "tags": []
          },
          "execution_count": 11
        }
      ]
    },
    {
      "cell_type": "code",
      "metadata": {
        "id": "wQnHNp-9q5_k",
        "colab_type": "code",
        "colab": {
          "base_uri": "https://localhost:8080/",
          "height": 34
        },
        "outputId": "756d0228-cd10-4018-9474-bd861503f3e3"
      },
      "source": [
        "list1=[3.4,5,6,26,7,'Sreelekhya',204]\n",
        "list[2]=list1\n",
        "print(list)"
      ],
      "execution_count": null,
      "outputs": [
        {
          "output_type": "stream",
          "text": [
            "[1, 6, [3.4, 5, 6, 26, 7, 'Sreelekhya', 204], 4.4, 6.4]\n"
          ],
          "name": "stdout"
        }
      ]
    },
    {
      "cell_type": "code",
      "metadata": {
        "id": "6l5LaLqxrDHa",
        "colab_type": "code",
        "colab": {
          "base_uri": "https://localhost:8080/",
          "height": 187
        },
        "outputId": "917e28a0-0330-4fca-df1c-30f8606432ab"
      },
      "source": [
        "for i in range(len(list)):\n",
        "    print(list[i])\n",
        "    print(type(list[i]))"
      ],
      "execution_count": null,
      "outputs": [
        {
          "output_type": "stream",
          "text": [
            "1\n",
            "<class 'int'>\n",
            "6\n",
            "<class 'int'>\n",
            "[3.4, 5, 6, 26, 7, 'Sreelekhya', 204]\n",
            "<class 'list'>\n",
            "4.4\n",
            "<class 'float'>\n",
            "6.4\n",
            "<class 'float'>\n"
          ],
          "name": "stdout"
        }
      ]
    },
    {
      "cell_type": "code",
      "metadata": {
        "id": "A6AmiFHksYt5",
        "colab_type": "code",
        "colab": {
          "base_uri": "https://localhost:8080/",
          "height": 34
        },
        "outputId": "10823b93-a47a-472e-aba6-5e29c47c2e78"
      },
      "source": [
        "a='str'\n",
        "b='str2'\n",
        "print(a+b)"
      ],
      "execution_count": null,
      "outputs": [
        {
          "output_type": "stream",
          "text": [
            "strstr2\n"
          ],
          "name": "stdout"
        }
      ]
    },
    {
      "cell_type": "code",
      "metadata": {
        "id": "3GXkVYR7uJ0A",
        "colab_type": "code",
        "colab": {
          "base_uri": "https://localhost:8080/",
          "height": 85
        },
        "outputId": "f1406a62-114e-40e4-f22d-ac688f63d7fc"
      },
      "source": [
        "print(len(list))\n",
        "print(list)\n",
        "list.append(3)\n",
        "list[3]=5\n",
        "print(len(list))\n",
        "print(list)"
      ],
      "execution_count": null,
      "outputs": [
        {
          "output_type": "stream",
          "text": [
            "5\n",
            "[1, 6, [3.4, 5, 6, 26, 7, 'Sreelekhya', 204], 4.4, 6.4]\n",
            "6\n",
            "[1, 6, [3.4, 5, 6, 26, 7, 'Sreelekhya', 204], 5, 6.4, 3]\n"
          ],
          "name": "stdout"
        }
      ]
    },
    {
      "cell_type": "code",
      "metadata": {
        "id": "M6hNeRjNuQ3e",
        "colab_type": "code",
        "colab": {
          "base_uri": "https://localhost:8080/",
          "height": 289
        },
        "outputId": "ab81eb9d-fcea-4f4a-80ca-f7b2d535b30b"
      },
      "source": [
        "list1=[0,1,2,3,4,5,6,7,8,9,10]\n",
        "print(list1[0:10:2])\n",
        "print(list1[0:11:2])\n",
        "print(list1)\n",
        "print(list1[3:4])#it will slice the given list\n",
        "print(list1[0:5])\n",
        "print(list1[1:5])\n",
        "\n",
        "print(list1[0:10:2])#:2 gives the step value of the slice\n",
        "print(list1[1:10:2])\n",
        "\n",
        "print(list1[:10:3])#takes first index as 0\n",
        "print(list1[3:])#take the last index as len(list1)\n",
        "print(list1[-4:])\n",
        "print(list1[-4::2])\n",
        "print(list1[:-1])\n",
        "print(list1[:-4])\n",
        "print(list1[-4:-8])\n",
        "print(list1[-8:-4])"
      ],
      "execution_count": null,
      "outputs": [
        {
          "output_type": "stream",
          "text": [
            "[0, 2, 4, 6, 8]\n",
            "[0, 2, 4, 6, 8, 10]\n",
            "[0, 1, 2, 3, 4, 5, 6, 7, 8, 9, 10]\n",
            "[3]\n",
            "[0, 1, 2, 3, 4]\n",
            "[1, 2, 3, 4]\n",
            "[0, 2, 4, 6, 8]\n",
            "[1, 3, 5, 7, 9]\n",
            "[0, 3, 6, 9]\n",
            "[3, 4, 5, 6, 7, 8, 9, 10]\n",
            "[7, 8, 9, 10]\n",
            "[7, 9]\n",
            "[0, 1, 2, 3, 4, 5, 6, 7, 8, 9]\n",
            "[0, 1, 2, 3, 4, 5, 6]\n",
            "[]\n",
            "[3, 4, 5, 6]\n"
          ],
          "name": "stdout"
        }
      ]
    },
    {
      "cell_type": "code",
      "metadata": {
        "id": "lnaOZK7gwQQ-",
        "colab_type": "code",
        "colab": {
          "base_uri": "https://localhost:8080/",
          "height": 102
        },
        "outputId": "401b588f-07cc-4627-ca43-cbbed4614052"
      },
      "source": [
        "p=float(input('enter principle'))\n",
        "r=float(input('enter rate'))\n",
        "t=float(input('time'))\n",
        "ci = p * (pow((1 + r / 100), t))\n",
        "print('Compound interest is',ci)\n",
        "si=(p*r*t)/100\n",
        "print('simple interest is',si)"
      ],
      "execution_count": 1,
      "outputs": [
        {
          "output_type": "stream",
          "text": [
            "enter principle2000\n",
            "enter rate8\n",
            "time5\n",
            "Compound interest is 2938.6561536000013\n",
            "simple interest is 800.0\n"
          ],
          "name": "stdout"
        }
      ]
    },
    {
      "cell_type": "code",
      "metadata": {
        "id": "ASNvx4sxWrG_",
        "colab_type": "code",
        "colab": {
          "base_uri": "https://localhost:8080/",
          "height": 119
        },
        "outputId": "be230a4e-2d08-4111-bc16-2b6011574b81"
      },
      "source": [
        "inst=int(input('enter no.of instalments'))\n",
        "for i in range(inst):\n",
        "    si=(p*r*(t-i))/100\n",
        "    print('interest needed to be paid at',i+1,'installment=',si)"
      ],
      "execution_count": 2,
      "outputs": [
        {
          "output_type": "stream",
          "text": [
            "enter no.of instalments5\n",
            "interest needed to be paid at 1 installment= 800.0\n",
            "interest needed to be paid at 2 installment= 640.0\n",
            "interest needed to be paid at 3 installment= 480.0\n",
            "interest needed to be paid at 4 installment= 320.0\n",
            "interest needed to be paid at 5 installment= 160.0\n"
          ],
          "name": "stdout"
        }
      ]
    },
    {
      "cell_type": "code",
      "metadata": {
        "id": "KIMgS1k1W_TY",
        "colab_type": "code",
        "colab": {
          "base_uri": "https://localhost:8080/",
          "height": 85
        },
        "outputId": "eeaec2fe-5341-4e8a-f30f-54091b5f72ee"
      },
      "source": [
        "n=input('enter sequence of number')\n",
        "n1=int(input('Enter a number'))\n",
        "m=len(n)\n",
        "if(m%2!=0):\n",
        "    mid=int((m+1)/2)\n",
        "    print(\"mid is\",mid)\n",
        "else:\n",
        "    print('given sequence is even')\n",
        "    mid=0\n",
        "if(str(n1)==str(n[mid-1])):\n",
        "    print('validated')\n",
        "else:\n",
        "    print('not validated')"
      ],
      "execution_count": 5,
      "outputs": [
        {
          "output_type": "stream",
          "text": [
            "enter sequence of number7654321\n",
            "Enter a number5\n",
            "mid is 4\n",
            "not validated\n"
          ],
          "name": "stdout"
        }
      ]
    },
    {
      "cell_type": "code",
      "metadata": {
        "id": "I1TncL8AXNmH",
        "colab_type": "code",
        "colab": {
          "base_uri": "https://localhost:8080/",
          "height": 170
        },
        "outputId": "0f823450-cece-479a-9388-da125bcfc796"
      },
      "source": [
        "a=[0,1,2,3,4,5,6,7,8]\n",
        "print(a)\n",
        "def function():\n",
        "    m=len(a)-1\n",
        "    print(a[0],a[m])\n",
        "    a.pop(m)\n",
        "    a.pop(0)\n",
        "    print(a)\n",
        "    if(len(a)>=2):\n",
        "        function()\n",
        "    else:\n",
        "        exit()\n",
        "function()"
      ],
      "execution_count": 6,
      "outputs": [
        {
          "output_type": "stream",
          "text": [
            "[0, 1, 2, 3, 4, 5, 6, 7, 8]\n",
            "0 8\n",
            "[1, 2, 3, 4, 5, 6, 7]\n",
            "1 7\n",
            "[2, 3, 4, 5, 6]\n",
            "2 6\n",
            "[3, 4, 5]\n",
            "3 5\n",
            "[4]\n"
          ],
          "name": "stdout"
        }
      ]
    },
    {
      "cell_type": "code",
      "metadata": {
        "id": "juOsRxvsXxYg",
        "colab_type": "code",
        "colab": {
          "base_uri": "https://localhost:8080/",
          "height": 51
        },
        "outputId": "fb5acbd8-bdea-4a77-8ec6-2a99617a4695"
      },
      "source": [
        "n=int(input('enter no. of units'))\n",
        "if(n<50):\n",
        "    bill=n*0.5\n",
        "elif(n>50 and n<100):\n",
        "    m=n-50\n",
        "    bill=50*0.5+m*0.8\n",
        "elif(n>=100 and n<200):\n",
        "    m=n-100\n",
        "    bill=m*1.2+50*0.8+50*0.5\n",
        "elif(n>=200):\n",
        "    m=n-200\n",
        "    bill=m*1.8+100*1.2+50*0.8+50*0.5\n",
        "print('current bill=',bill)"
      ],
      "execution_count": 1,
      "outputs": [
        {
          "output_type": "stream",
          "text": [
            "enter no. of units1234\n",
            "current bill= 2046.2\n"
          ],
          "name": "stdout"
        }
      ]
    },
    {
      "cell_type": "code",
      "metadata": {
        "id": "Qc-hnfQcX62F",
        "colab_type": "code",
        "colab": {
          "base_uri": "https://localhost:8080/",
          "height": 51
        },
        "outputId": "aa4f9637-be65-4497-e377-f78ea7d0343e"
      },
      "source": [
        "d=dict()\n",
        "a=int(input('enter the no. of elements in dictionary'))\n",
        "for i in range(1,a+1):\n",
        "    d[i]=i**2\n",
        "print(d)"
      ],
      "execution_count": 2,
      "outputs": [
        {
          "output_type": "stream",
          "text": [
            "enter the no. of elements in dictionary15\n",
            "{1: 1, 2: 4, 3: 9, 4: 16, 5: 25, 6: 36, 7: 49, 8: 64, 9: 81, 10: 100, 11: 121, 12: 144, 13: 169, 14: 196, 15: 225}\n"
          ],
          "name": "stdout"
        }
      ]
    },
    {
      "cell_type": "code",
      "metadata": {
        "id": "R3S6pc8-YFii",
        "colab_type": "code",
        "colab": {}
      },
      "source": [
        ""
      ],
      "execution_count": null,
      "outputs": []
    }
  ]
}