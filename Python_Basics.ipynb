{
  "nbformat": 4,
  "nbformat_minor": 0,
  "metadata": {
    "colab": {
      "name": "Python Basics.ipynb",
      "provenance": [],
      "collapsed_sections": [],
      "authorship_tag": "ABX9TyOVPzZqSQXdwTZoAexC3FP0",
      "include_colab_link": true
    },
    "kernelspec": {
      "name": "python3",
      "display_name": "Python 3"
    }
  },
  "cells": [
    {
      "cell_type": "markdown",
      "metadata": {
        "id": "view-in-github",
        "colab_type": "text"
      },
      "source": [
        "<a href=\"https://colab.research.google.com/github/Sreelekhya28/Python/blob/master/Python_Basics.ipynb\" target=\"_parent\"><img src=\"https://colab.research.google.com/assets/colab-badge.svg\" alt=\"Open In Colab\"/></a>"
      ]
    },
    {
      "cell_type": "code",
      "metadata": {
        "id": "y1tz8cEx_8g1",
        "colab_type": "code",
        "colab": {
          "base_uri": "https://localhost:8080/",
          "height": 51
        },
        "outputId": "42def085-a6e6-4047-e1ae-04d46902718f"
      },
      "source": [
        "a=10\n",
        "b=15\n",
        "print(a+b)\n",
        "print('Haha')"
      ],
      "execution_count": null,
      "outputs": [
        {
          "output_type": "stream",
          "text": [
            "25\n",
            "Haha\n"
          ],
          "name": "stdout"
        }
      ]
    },
    {
      "cell_type": "code",
      "metadata": {
        "id": "Mr8DRiOU_93s",
        "colab_type": "code",
        "colab": {
          "base_uri": "https://localhost:8080/",
          "height": 34
        },
        "outputId": "00912fc1-bfc2-430f-d74e-f2f1eb85b3ec"
      },
      "source": [
        "print('You are Awesome')"
      ],
      "execution_count": null,
      "outputs": [
        {
          "output_type": "stream",
          "text": [
            "You are Awesome\n"
          ],
          "name": "stdout"
        }
      ]
    },
    {
      "cell_type": "code",
      "metadata": {
        "id": "Gkna_fxnpgS3",
        "colab_type": "code",
        "colab": {
          "base_uri": "https://localhost:8080/",
          "height": 221
        },
        "outputId": "6ea2a54f-2cb7-4f54-d772-98c21b91ebb7"
      },
      "source": [
        "for i in range(12):\n",
        "  print(i)"
      ],
      "execution_count": null,
      "outputs": [
        {
          "output_type": "stream",
          "text": [
            "0\n",
            "1\n",
            "2\n",
            "3\n",
            "4\n",
            "5\n",
            "6\n",
            "7\n",
            "8\n",
            "9\n",
            "10\n",
            "11\n"
          ],
          "name": "stdout"
        }
      ]
    },
    {
      "cell_type": "code",
      "metadata": {
        "id": "J_tmN0Y-p4hJ",
        "colab_type": "code",
        "colab": {
          "base_uri": "https://localhost:8080/",
          "height": 51
        },
        "outputId": "374f3643-a3db-49cc-c814-aaba9943c7f0"
      },
      "source": [
        "print(\"Hey,I was doing just fine before i met you i think too much and thats an issue but i am okay!\")\n",
        "print(type(\"Hey\"))"
      ],
      "execution_count": null,
      "outputs": [
        {
          "output_type": "stream",
          "text": [
            "Hey,I was doing just fine before i met you i think too much and thats an issue but i am okay!\n",
            "<class 'str'>\n"
          ],
          "name": "stdout"
        }
      ]
    },
    {
      "cell_type": "code",
      "metadata": {
        "id": "PtpR3c0gqBB6",
        "colab_type": "code",
        "colab": {
          "base_uri": "https://localhost:8080/",
          "height": 136
        },
        "outputId": "3e1f1e3f-3c75-4eec-f29f-2dec6d725cef"
      },
      "source": [
        "print(3+2)\n",
        "print(3-2),print(3/2)\n",
        "print(3*2)\n",
        "print(3%2)\n",
        "print(3//2)\n",
        "print(3**2)"
      ],
      "execution_count": null,
      "outputs": [
        {
          "output_type": "stream",
          "text": [
            "5\n",
            "1\n",
            "1.5\n",
            "6\n",
            "1\n",
            "1\n",
            "9\n"
          ],
          "name": "stdout"
        }
      ]
    },
    {
      "cell_type": "code",
      "metadata": {
        "id": "dEvSSpFwqSR8",
        "colab_type": "code",
        "colab": {
          "base_uri": "https://localhost:8080/",
          "height": 51
        },
        "outputId": "bedba099-ad50-4d2e-e0c6-e0e81fb36b4a"
      },
      "source": [
        "list=[1,6,2,4.4,6.4]\n",
        "print(list)\n",
        "print(type(list))"
      ],
      "execution_count": null,
      "outputs": [
        {
          "output_type": "stream",
          "text": [
            "[1, 6, 2, 4.4, 6.4]\n",
            "<class 'list'>\n"
          ],
          "name": "stdout"
        }
      ]
    },
    {
      "cell_type": "code",
      "metadata": {
        "id": "rpYn05eaqmIn",
        "colab_type": "code",
        "colab": {
          "base_uri": "https://localhost:8080/",
          "height": 34
        },
        "outputId": "2bef023f-2d7f-4330-f9a6-2bb76e183a13"
      },
      "source": [
        "list[-1]"
      ],
      "execution_count": null,
      "outputs": [
        {
          "output_type": "execute_result",
          "data": {
            "text/plain": [
              "6.4"
            ]
          },
          "metadata": {
            "tags": []
          },
          "execution_count": 10
        }
      ]
    },
    {
      "cell_type": "code",
      "metadata": {
        "id": "3pTNvHQHqsp5",
        "colab_type": "code",
        "colab": {
          "base_uri": "https://localhost:8080/",
          "height": 34
        },
        "outputId": "42974dc9-7223-4380-ccaa-3efdaa09f1a8"
      },
      "source": [
        "list"
      ],
      "execution_count": null,
      "outputs": [
        {
          "output_type": "execute_result",
          "data": {
            "text/plain": [
              "[1, 6, 2, 4.4, 6.4]"
            ]
          },
          "metadata": {
            "tags": []
          },
          "execution_count": 11
        }
      ]
    },
    {
      "cell_type": "code",
      "metadata": {
        "id": "wQnHNp-9q5_k",
        "colab_type": "code",
        "colab": {
          "base_uri": "https://localhost:8080/",
          "height": 34
        },
        "outputId": "756d0228-cd10-4018-9474-bd861503f3e3"
      },
      "source": [
        "list1=[3.4,5,6,26,7,'Sreelekhya',204]\n",
        "list[2]=list1\n",
        "print(list)"
      ],
      "execution_count": null,
      "outputs": [
        {
          "output_type": "stream",
          "text": [
            "[1, 6, [3.4, 5, 6, 26, 7, 'Sreelekhya', 204], 4.4, 6.4]\n"
          ],
          "name": "stdout"
        }
      ]
    },
    {
      "cell_type": "code",
      "metadata": {
        "id": "6l5LaLqxrDHa",
        "colab_type": "code",
        "colab": {
          "base_uri": "https://localhost:8080/",
          "height": 187
        },
        "outputId": "917e28a0-0330-4fca-df1c-30f8606432ab"
      },
      "source": [
        "for i in range(len(list)):\n",
        "    print(list[i])\n",
        "    print(type(list[i]))"
      ],
      "execution_count": null,
      "outputs": [
        {
          "output_type": "stream",
          "text": [
            "1\n",
            "<class 'int'>\n",
            "6\n",
            "<class 'int'>\n",
            "[3.4, 5, 6, 26, 7, 'Sreelekhya', 204]\n",
            "<class 'list'>\n",
            "4.4\n",
            "<class 'float'>\n",
            "6.4\n",
            "<class 'float'>\n"
          ],
          "name": "stdout"
        }
      ]
    },
    {
      "cell_type": "code",
      "metadata": {
        "id": "A6AmiFHksYt5",
        "colab_type": "code",
        "colab": {
          "base_uri": "https://localhost:8080/",
          "height": 34
        },
        "outputId": "10823b93-a47a-472e-aba6-5e29c47c2e78"
      },
      "source": [
        "a='str'\n",
        "b='str2'\n",
        "print(a+b)"
      ],
      "execution_count": null,
      "outputs": [
        {
          "output_type": "stream",
          "text": [
            "strstr2\n"
          ],
          "name": "stdout"
        }
      ]
    },
    {
      "cell_type": "code",
      "metadata": {
        "id": "3GXkVYR7uJ0A",
        "colab_type": "code",
        "colab": {
          "base_uri": "https://localhost:8080/",
          "height": 85
        },
        "outputId": "f1406a62-114e-40e4-f22d-ac688f63d7fc"
      },
      "source": [
        "print(len(list))\n",
        "print(list)\n",
        "list.append(3)\n",
        "list[3]=5\n",
        "print(len(list))\n",
        "print(list)"
      ],
      "execution_count": null,
      "outputs": [
        {
          "output_type": "stream",
          "text": [
            "5\n",
            "[1, 6, [3.4, 5, 6, 26, 7, 'Sreelekhya', 204], 4.4, 6.4]\n",
            "6\n",
            "[1, 6, [3.4, 5, 6, 26, 7, 'Sreelekhya', 204], 5, 6.4, 3]\n"
          ],
          "name": "stdout"
        }
      ]
    },
    {
      "cell_type": "code",
      "metadata": {
        "id": "M6hNeRjNuQ3e",
        "colab_type": "code",
        "colab": {
          "base_uri": "https://localhost:8080/",
          "height": 289
        },
        "outputId": "ab81eb9d-fcea-4f4a-80ca-f7b2d535b30b"
      },
      "source": [
        "list1=[0,1,2,3,4,5,6,7,8,9,10]\n",
        "print(list1[0:10:2])\n",
        "print(list1[0:11:2])\n",
        "print(list1)\n",
        "print(list1[3:4])#it will slice the given list\n",
        "print(list1[0:5])\n",
        "print(list1[1:5])\n",
        "\n",
        "print(list1[0:10:2])#:2 gives the step value of the slice\n",
        "print(list1[1:10:2])\n",
        "\n",
        "print(list1[:10:3])#takes first index as 0\n",
        "print(list1[3:])#take the last index as len(list1)\n",
        "print(list1[-4:])\n",
        "print(list1[-4::2])\n",
        "print(list1[:-1])\n",
        "print(list1[:-4])\n",
        "print(list1[-4:-8])\n",
        "print(list1[-8:-4])"
      ],
      "execution_count": null,
      "outputs": [
        {
          "output_type": "stream",
          "text": [
            "[0, 2, 4, 6, 8]\n",
            "[0, 2, 4, 6, 8, 10]\n",
            "[0, 1, 2, 3, 4, 5, 6, 7, 8, 9, 10]\n",
            "[3]\n",
            "[0, 1, 2, 3, 4]\n",
            "[1, 2, 3, 4]\n",
            "[0, 2, 4, 6, 8]\n",
            "[1, 3, 5, 7, 9]\n",
            "[0, 3, 6, 9]\n",
            "[3, 4, 5, 6, 7, 8, 9, 10]\n",
            "[7, 8, 9, 10]\n",
            "[7, 9]\n",
            "[0, 1, 2, 3, 4, 5, 6, 7, 8, 9]\n",
            "[0, 1, 2, 3, 4, 5, 6]\n",
            "[]\n",
            "[3, 4, 5, 6]\n"
          ],
          "name": "stdout"
        }
      ]
    },
    {
      "cell_type": "code",
      "metadata": {
        "id": "lnaOZK7gwQQ-",
        "colab_type": "code",
        "colab": {
          "base_uri": "https://localhost:8080/",
          "height": 102
        },
        "outputId": "401b588f-07cc-4627-ca43-cbbed4614052"
      },
      "source": [
        "p=float(input('enter principle'))\n",
        "r=float(input('enter rate'))\n",
        "t=float(input('time'))\n",
        "ci = p * (pow((1 + r / 100), t))\n",
        "print('Compound interest is',ci)\n",
        "si=(p*r*t)/100\n",
        "print('simple interest is',si)"
      ],
      "execution_count": 1,
      "outputs": [
        {
          "output_type": "stream",
          "text": [
            "enter principle2000\n",
            "enter rate8\n",
            "time5\n",
            "Compound interest is 2938.6561536000013\n",
            "simple interest is 800.0\n"
          ],
          "name": "stdout"
        }
      ]
    },
    {
      "cell_type": "code",
      "metadata": {
        "id": "ASNvx4sxWrG_",
        "colab_type": "code",
        "colab": {
          "base_uri": "https://localhost:8080/",
          "height": 119
        },
        "outputId": "be230a4e-2d08-4111-bc16-2b6011574b81"
      },
      "source": [
        "inst=int(input('enter no.of instalments'))\n",
        "for i in range(inst):\n",
        "    si=(p*r*(t-i))/100\n",
        "    print('interest needed to be paid at',i+1,'installment=',si)"
      ],
      "execution_count": 2,
      "outputs": [
        {
          "output_type": "stream",
          "text": [
            "enter no.of instalments5\n",
            "interest needed to be paid at 1 installment= 800.0\n",
            "interest needed to be paid at 2 installment= 640.0\n",
            "interest needed to be paid at 3 installment= 480.0\n",
            "interest needed to be paid at 4 installment= 320.0\n",
            "interest needed to be paid at 5 installment= 160.0\n"
          ],
          "name": "stdout"
        }
      ]
    },
    {
      "cell_type": "code",
      "metadata": {
        "id": "KIMgS1k1W_TY",
        "colab_type": "code",
        "colab": {
          "base_uri": "https://localhost:8080/",
          "height": 85
        },
        "outputId": "eeaec2fe-5341-4e8a-f30f-54091b5f72ee"
      },
      "source": [
        "n=input('enter sequence of number')\n",
        "n1=int(input('Enter a number'))\n",
        "m=len(n)\n",
        "if(m%2!=0):\n",
        "    mid=int((m+1)/2)\n",
        "    print(\"mid is\",mid)\n",
        "else:\n",
        "    print('given sequence is even')\n",
        "    mid=0\n",
        "if(str(n1)==str(n[mid-1])):\n",
        "    print('validated')\n",
        "else:\n",
        "    print('not validated')"
      ],
      "execution_count": 5,
      "outputs": [
        {
          "output_type": "stream",
          "text": [
            "enter sequence of number7654321\n",
            "Enter a number5\n",
            "mid is 4\n",
            "not validated\n"
          ],
          "name": "stdout"
        }
      ]
    },
    {
      "cell_type": "code",
      "metadata": {
        "id": "I1TncL8AXNmH",
        "colab_type": "code",
        "colab": {
          "base_uri": "https://localhost:8080/",
          "height": 170
        },
        "outputId": "0f823450-cece-479a-9388-da125bcfc796"
      },
      "source": [
        "a=[0,1,2,3,4,5,6,7,8]\n",
        "print(a)\n",
        "def function():\n",
        "    m=len(a)-1\n",
        "    print(a[0],a[m])\n",
        "    a.pop(m)\n",
        "    a.pop(0)\n",
        "    print(a)\n",
        "    if(len(a)>=2):\n",
        "        function()\n",
        "    else:\n",
        "        exit()\n",
        "function()"
      ],
      "execution_count": 6,
      "outputs": [
        {
          "output_type": "stream",
          "text": [
            "[0, 1, 2, 3, 4, 5, 6, 7, 8]\n",
            "0 8\n",
            "[1, 2, 3, 4, 5, 6, 7]\n",
            "1 7\n",
            "[2, 3, 4, 5, 6]\n",
            "2 6\n",
            "[3, 4, 5]\n",
            "3 5\n",
            "[4]\n"
          ],
          "name": "stdout"
        }
      ]
    },
    {
      "cell_type": "code",
      "metadata": {
        "id": "juOsRxvsXxYg",
        "colab_type": "code",
        "colab": {
          "base_uri": "https://localhost:8080/",
          "height": 51
        },
        "outputId": "fb5acbd8-bdea-4a77-8ec6-2a99617a4695"
      },
      "source": [
        "n=int(input('enter no. of units'))\n",
        "if(n<50):\n",
        "    bill=n*0.5\n",
        "elif(n>50 and n<100):\n",
        "    m=n-50\n",
        "    bill=50*0.5+m*0.8\n",
        "elif(n>=100 and n<200):\n",
        "    m=n-100\n",
        "    bill=m*1.2+50*0.8+50*0.5\n",
        "elif(n>=200):\n",
        "    m=n-200\n",
        "    bill=m*1.8+100*1.2+50*0.8+50*0.5\n",
        "print('current bill=',bill)"
      ],
      "execution_count": 1,
      "outputs": [
        {
          "output_type": "stream",
          "text": [
            "enter no. of units1234\n",
            "current bill= 2046.2\n"
          ],
          "name": "stdout"
        }
      ]
    },
    {
      "cell_type": "code",
      "metadata": {
        "id": "Qc-hnfQcX62F",
        "colab_type": "code",
        "colab": {
          "base_uri": "https://localhost:8080/",
          "height": 51
        },
        "outputId": "aa4f9637-be65-4497-e377-f78ea7d0343e"
      },
      "source": [
        "d=dict()\n",
        "a=int(input('enter the no. of elements in dictionary'))\n",
        "for i in range(1,a+1):\n",
        "    d[i]=i**2\n",
        "print(d)"
      ],
      "execution_count": 2,
      "outputs": [
        {
          "output_type": "stream",
          "text": [
            "enter the no. of elements in dictionary15\n",
            "{1: 1, 2: 4, 3: 9, 4: 16, 5: 25, 6: 36, 7: 49, 8: 64, 9: 81, 10: 100, 11: 121, 12: 144, 13: 169, 14: 196, 15: 225}\n"
          ],
          "name": "stdout"
        }
      ]
    },
    {
      "cell_type": "code",
      "metadata": {
        "id": "R3S6pc8-YFii",
        "colab_type": "code",
        "colab": {
          "base_uri": "https://localhost:8080/",
          "height": 34
        },
        "outputId": "c5a71a7e-14f0-497b-da50-1a86e45cda57"
      },
      "source": [
        "str=\"good morning\"\n",
        "print(str[2])"
      ],
      "execution_count": 3,
      "outputs": [
        {
          "output_type": "stream",
          "text": [
            "o\n"
          ],
          "name": "stdout"
        }
      ]
    },
    {
      "cell_type": "code",
      "metadata": {
        "id": "mBv-X_QddsBH",
        "colab_type": "code",
        "colab": {
          "base_uri": "https://localhost:8080/",
          "height": 51
        },
        "outputId": "c318cbdd-f813-447f-c126-77a6285504c7"
      },
      "source": [
        "str=\"hello all\"\n",
        "print(str[:5])\n",
        "print(str[::-1])"
      ],
      "execution_count": 4,
      "outputs": [
        {
          "output_type": "stream",
          "text": [
            "hello\n",
            "lla olleh\n"
          ],
          "name": "stdout"
        }
      ]
    },
    {
      "cell_type": "code",
      "metadata": {
        "id": "IOUDm0aedu8d",
        "colab_type": "code",
        "colab": {
          "base_uri": "https://localhost:8080/",
          "height": 51
        },
        "outputId": "ccaec557-4f74-4cca-c1f7-c215deb2dced"
      },
      "source": [
        "str1=\"hello\"\n",
        "str2=\"world\"\n",
        "print(str1==str2)\n",
        "print(str1*3)"
      ],
      "execution_count": 5,
      "outputs": [
        {
          "output_type": "stream",
          "text": [
            "False\n",
            "hellohellohello\n"
          ],
          "name": "stdout"
        }
      ]
    },
    {
      "cell_type": "code",
      "metadata": {
        "id": "vzguKrQSdz79",
        "colab_type": "code",
        "colab": {
          "base_uri": "https://localhost:8080/",
          "height": 68
        },
        "outputId": "dfb263ee-58b3-4e48-869e-eac9bdc0430f"
      },
      "source": [
        "n=12\n",
        "m=2.44\n",
        "print(\"%d\"%(m))\n",
        "#second method\n",
        "print(\"value of n is{0}\".format(n))\n",
        "print(\"value of mis {1}and value of n is {0}\".format(m,n))"
      ],
      "execution_count": 6,
      "outputs": [
        {
          "output_type": "stream",
          "text": [
            "2\n",
            "value of n is12\n",
            "value of mis 12and value of n is 2.44\n"
          ],
          "name": "stdout"
        }
      ]
    },
    {
      "cell_type": "code",
      "metadata": {
        "id": "ATrvQ9H_d4Rh",
        "colab_type": "code",
        "colab": {
          "base_uri": "https://localhost:8080/",
          "height": 68
        },
        "outputId": "55c1509f-4d16-4be9-fbb0-bfebe13395f9"
      },
      "source": [
        "str=\"cat mini sai\"\n",
        "print(str.startswith(\"sai\"))\n",
        "print(str.endswith(\"cat\"))\n",
        "print(str.startswith(\"mini\",4,8))"
      ],
      "execution_count": 7,
      "outputs": [
        {
          "output_type": "stream",
          "text": [
            "False\n",
            "False\n",
            "True\n"
          ],
          "name": "stdout"
        }
      ]
    },
    {
      "cell_type": "code",
      "metadata": {
        "id": "7dssRdkmeFqk",
        "colab_type": "code",
        "colab": {
          "base_uri": "https://localhost:8080/",
          "height": 34
        },
        "outputId": "4a775894-4871-45a0-91a0-2a1979ec22e6"
      },
      "source": [
        "str=\"cat apple mango dog\"\n",
        "print(str.startswith(\"og\",17,19))"
      ],
      "execution_count": 8,
      "outputs": [
        {
          "output_type": "stream",
          "text": [
            "True\n"
          ],
          "name": "stdout"
        }
      ]
    },
    {
      "cell_type": "code",
      "metadata": {
        "id": "_H15GKf2eI-F",
        "colab_type": "code",
        "colab": {
          "base_uri": "https://localhost:8080/",
          "height": 51
        },
        "outputId": "8aff1ff7-3335-47e0-9561-aecd0ca353c3"
      },
      "source": [
        "n=type(input(\"enter n value\"))\n",
        "print(n)"
      ],
      "execution_count": 9,
      "outputs": [
        {
          "output_type": "stream",
          "text": [
            "enter n value\"Sreelekhya!\"\n",
            "<class 'str'>\n"
          ],
          "name": "stdout"
        }
      ]
    },
    {
      "cell_type": "code",
      "metadata": {
        "id": "geT1cj0ReO_d",
        "colab_type": "code",
        "colab": {
          "base_uri": "https://localhost:8080/",
          "height": 68
        },
        "outputId": "7406554c-d00e-4d91-9714-e8b9a12b6a53"
      },
      "source": [
        "str=\"cat,dog,ant,deer\"\n",
        "name=str.split(\",\")\n",
        "print(name)\n",
        "print(type(name))\n",
        "name2=str.split(\",\",2)\n",
        "print(name2)"
      ],
      "execution_count": 10,
      "outputs": [
        {
          "output_type": "stream",
          "text": [
            "['cat', 'dog', 'ant', 'deer']\n",
            "<class 'list'>\n",
            "['cat', 'dog', 'ant,deer']\n"
          ],
          "name": "stdout"
        }
      ]
    },
    {
      "cell_type": "code",
      "metadata": {
        "id": "Q8P2AHEveaH8",
        "colab_type": "code",
        "colab": {
          "base_uri": "https://localhost:8080/",
          "height": 68
        },
        "outputId": "b9d3bac9-df28-42b6-e6eb-0899432f741e"
      },
      "source": [
        "sep=\"-\"\n",
        "date=sep.join((\"26\",\"11\",\"2019\"))\n",
        "print(type(date))\n",
        "print(date)\n",
        "date=sep.join([\"26\",\"11\",\"2019\"])\n",
        "print(type(date))"
      ],
      "execution_count": 12,
      "outputs": [
        {
          "output_type": "stream",
          "text": [
            "<class 'str'>\n",
            "26-11-2019\n",
            "<class 'str'>\n"
          ],
          "name": "stdout"
        }
      ]
    },
    {
      "cell_type": "code",
      "metadata": {
        "id": "vEWzBPB8elGG",
        "colab_type": "code",
        "colab": {
          "base_uri": "https://localhost:8080/",
          "height": 51
        },
        "outputId": "7702f51b-5531-4937-b77e-f118ca28c07a"
      },
      "source": [
        "sep=\"-\"\n",
        "date=sep.join((\"26\",\"11\",\"2019\"))\n",
        "print(type(date))\n",
        "date=sep.join([\"26\",\"11\",\"2019\"])\n",
        "print(type(date))"
      ],
      "execution_count": 13,
      "outputs": [
        {
          "output_type": "stream",
          "text": [
            "<class 'str'>\n",
            "<class 'str'>\n"
          ],
          "name": "stdout"
        }
      ]
    },
    {
      "cell_type": "code",
      "metadata": {
        "id": "GN6BPRHlevQM",
        "colab_type": "code",
        "colab": {
          "base_uri": "https://localhost:8080/",
          "height": 34
        },
        "outputId": "b7cdf957-c864-4530-c1ad-bfef34438f8f"
      },
      "source": [
        "n=-5\n",
        "if (n<0):\n",
        "    print(\"negative\")\n",
        "else:\n",
        "    print(\"positive\")"
      ],
      "execution_count": 14,
      "outputs": [
        {
          "output_type": "stream",
          "text": [
            "negative\n"
          ],
          "name": "stdout"
        }
      ]
    },
    {
      "cell_type": "code",
      "metadata": {
        "id": "5h9Z6cJIe2i7",
        "colab_type": "code",
        "colab": {
          "base_uri": "https://localhost:8080/",
          "height": 34
        },
        "outputId": "91910e87-78d1-4279-c0a9-c4221f48ea46"
      },
      "source": [
        "tuple1=(1,2,34,\"sai\",100)\n",
        "print(tuple1)"
      ],
      "execution_count": 15,
      "outputs": [
        {
          "output_type": "stream",
          "text": [
            "(1, 2, 34, 'sai', 100)\n"
          ],
          "name": "stdout"
        }
      ]
    },
    {
      "cell_type": "code",
      "metadata": {
        "id": "R4mAMlboe8jW",
        "colab_type": "code",
        "colab": {
          "base_uri": "https://localhost:8080/",
          "height": 51
        },
        "outputId": "e78cee5d-7c15-484e-92c3-1cbfb4ec102e"
      },
      "source": [
        "print(tuple1[2])\n",
        "print(tuple1[1::2])"
      ],
      "execution_count": 16,
      "outputs": [
        {
          "output_type": "stream",
          "text": [
            "34\n",
            "(2, 'sai')\n"
          ],
          "name": "stdout"
        }
      ]
    },
    {
      "cell_type": "code",
      "metadata": {
        "id": "lULCgkChfAEz",
        "colab_type": "code",
        "colab": {
          "base_uri": "https://localhost:8080/",
          "height": 34
        },
        "outputId": "d0472929-d385-44a9-9925-a9584510270d"
      },
      "source": [
        "print(tuple1[::-1])"
      ],
      "execution_count": 17,
      "outputs": [
        {
          "output_type": "stream",
          "text": [
            "(100, 'sai', 34, 2, 1)\n"
          ],
          "name": "stdout"
        }
      ]
    },
    {
      "cell_type": "code",
      "metadata": {
        "id": "09SKQktcfEIW",
        "colab_type": "code",
        "colab": {
          "base_uri": "https://localhost:8080/",
          "height": 51
        },
        "outputId": "6ab2723f-5ff8-40e9-db3b-357b40906846"
      },
      "source": [
        "dic={\"jan\":1,\"feb\":2,\"march\":3}\n",
        "print(dic)\n",
        "print(dic[\"jan\"])"
      ],
      "execution_count": 18,
      "outputs": [
        {
          "output_type": "stream",
          "text": [
            "{'jan': 1, 'feb': 2, 'march': 3}\n",
            "1\n"
          ],
          "name": "stdout"
        }
      ]
    },
    {
      "cell_type": "code",
      "metadata": {
        "id": "0n0E-dhqfI5s",
        "colab_type": "code",
        "colab": {
          "base_uri": "https://localhost:8080/",
          "height": 68
        },
        "outputId": "84ef9324-c56c-4e3a-ec30-278c301e69c2"
      },
      "source": [
        "dic={\"jan\":33,\"feb\":34,\"may\":35}\n",
        "dic[\"march\"]=33\n",
        "print(dic)\n",
        "dic[\"may\"]=12\n",
        "print(dic)\n",
        "#deleting\n",
        "del dic[\"march\"]\n",
        "print(dic)"
      ],
      "execution_count": 19,
      "outputs": [
        {
          "output_type": "stream",
          "text": [
            "{'jan': 33, 'feb': 34, 'may': 35, 'march': 33}\n",
            "{'jan': 33, 'feb': 34, 'may': 12, 'march': 33}\n",
            "{'jan': 33, 'feb': 34, 'may': 12}\n"
          ],
          "name": "stdout"
        }
      ]
    },
    {
      "cell_type": "code",
      "metadata": {
        "id": "BDc8fqdbfM0g",
        "colab_type": "code",
        "colab": {
          "base_uri": "https://localhost:8080/",
          "height": 180
        },
        "outputId": "f7fcc8a5-4022-45e5-e409-a56f0d7c3849"
      },
      "source": [
        "dic={\"jan\":1,\"feb\":12,[23,11,23]:33}# keys are immutable \n",
        "print(dic)"
      ],
      "execution_count": 20,
      "outputs": [
        {
          "output_type": "error",
          "ename": "TypeError",
          "evalue": "ignored",
          "traceback": [
            "\u001b[0;31m---------------------------------------------------------------------------\u001b[0m",
            "\u001b[0;31mTypeError\u001b[0m                                 Traceback (most recent call last)",
            "\u001b[0;32m<ipython-input-20-eea6d5257952>\u001b[0m in \u001b[0;36m<module>\u001b[0;34m()\u001b[0m\n\u001b[0;32m----> 1\u001b[0;31m \u001b[0mdic\u001b[0m\u001b[0;34m=\u001b[0m\u001b[0;34m{\u001b[0m\u001b[0;34m\"jan\"\u001b[0m\u001b[0;34m:\u001b[0m\u001b[0;36m1\u001b[0m\u001b[0;34m,\u001b[0m\u001b[0;34m\"feb\"\u001b[0m\u001b[0;34m:\u001b[0m\u001b[0;36m12\u001b[0m\u001b[0;34m,\u001b[0m\u001b[0;34m[\u001b[0m\u001b[0;36m23\u001b[0m\u001b[0;34m,\u001b[0m\u001b[0;36m11\u001b[0m\u001b[0;34m,\u001b[0m\u001b[0;36m23\u001b[0m\u001b[0;34m]\u001b[0m\u001b[0;34m:\u001b[0m\u001b[0;36m33\u001b[0m\u001b[0;34m}\u001b[0m\u001b[0;31m# keys are immutable\u001b[0m\u001b[0;34m\u001b[0m\u001b[0;34m\u001b[0m\u001b[0m\n\u001b[0m\u001b[1;32m      2\u001b[0m \u001b[0mprint\u001b[0m\u001b[0;34m(\u001b[0m\u001b[0mdic\u001b[0m\u001b[0;34m)\u001b[0m\u001b[0;34m\u001b[0m\u001b[0;34m\u001b[0m\u001b[0m\n",
            "\u001b[0;31mTypeError\u001b[0m: unhashable type: 'list'"
          ]
        }
      ]
    },
    {
      "cell_type": "code",
      "metadata": {
        "id": "FWpv_v0WfTDP",
        "colab_type": "code",
        "colab": {
          "base_uri": "https://localhost:8080/",
          "height": 153
        },
        "outputId": "fc966894-c945-4513-d3d4-77de0dfa0abf"
      },
      "source": [
        "dic={\"jan\":2,\"jan\":33,\"feb\":2}# keys are unique\n",
        "print(dic[\"jan\"])\n",
        "print(dic)\n",
        "print(len(dic))\n",
        "print(dic.get(\"jan\",None))\n",
        "print(dic.get(\"jan\",33))\n",
        "print(dic.get(\"may\",None))#no such key\n",
        "print(dic.get(\"feb\",22))\n",
        "print(dic)"
      ],
      "execution_count": 21,
      "outputs": [
        {
          "output_type": "stream",
          "text": [
            "33\n",
            "{'jan': 33, 'feb': 2}\n",
            "2\n",
            "33\n",
            "33\n",
            "None\n",
            "2\n",
            "{'jan': 33, 'feb': 2}\n"
          ],
          "name": "stdout"
        }
      ]
    },
    {
      "cell_type": "code",
      "metadata": {
        "id": "S6jaX792fbOP",
        "colab_type": "code",
        "colab": {
          "base_uri": "https://localhost:8080/",
          "height": 85
        },
        "outputId": "7ee373c3-a1b9-489a-a439-7d9cf8c55b99"
      },
      "source": [
        "dic={\"jan\":2,\"feb\":22,\"march\":44}\n",
        "print(dic.items())\n",
        "print(type(dic.items()))\n",
        "print(list(dic.items()))\n",
        "print(type(list(dic.items())))"
      ],
      "execution_count": 22,
      "outputs": [
        {
          "output_type": "stream",
          "text": [
            "dict_items([('jan', 2), ('feb', 22), ('march', 44)])\n",
            "<class 'dict_items'>\n",
            "[('jan', 2), ('feb', 22), ('march', 44)]\n",
            "<class 'list'>\n"
          ],
          "name": "stdout"
        }
      ]
    },
    {
      "cell_type": "code",
      "metadata": {
        "id": "KOTTRforfhcJ",
        "colab_type": "code",
        "colab": {
          "base_uri": "https://localhost:8080/",
          "height": 102
        },
        "outputId": "9df4285b-f274-419a-d9d7-da3a3686e614"
      },
      "source": [
        "print(dic.keys())\n",
        "print(type(dic.keys()))\n",
        "print(list(dic.keys()))\n",
        "print(type(list(dic.keys())))\n",
        "print(list(dic.values()))"
      ],
      "execution_count": 23,
      "outputs": [
        {
          "output_type": "stream",
          "text": [
            "dict_keys(['jan', 'feb', 'march'])\n",
            "<class 'dict_keys'>\n",
            "['jan', 'feb', 'march']\n",
            "<class 'list'>\n",
            "[2, 22, 44]\n"
          ],
          "name": "stdout"
        }
      ]
    },
    {
      "cell_type": "code",
      "metadata": {
        "id": "XJAcRRiKflv2",
        "colab_type": "code",
        "colab": {
          "base_uri": "https://localhost:8080/",
          "height": 68
        },
        "outputId": "6ab31277-56f9-40b8-e32c-770186884982"
      },
      "source": [
        "print(list(range(10)))\n",
        "a=list(range(10))\n",
        "print(a)\n",
        "print(list(range(2,10,3)))"
      ],
      "execution_count": 24,
      "outputs": [
        {
          "output_type": "stream",
          "text": [
            "[0, 1, 2, 3, 4, 5, 6, 7, 8, 9]\n",
            "[0, 1, 2, 3, 4, 5, 6, 7, 8, 9]\n",
            "[2, 5, 8]\n"
          ],
          "name": "stdout"
        }
      ]
    },
    {
      "cell_type": "code",
      "metadata": {
        "id": "7tG_CuTsfqpq",
        "colab_type": "code",
        "colab": {
          "base_uri": "https://localhost:8080/",
          "height": 187
        },
        "outputId": "35723685-10c0-46a8-fd21-8ac2d718d84a"
      },
      "source": [
        "for n in list(range(1,11)):\n",
        "    print(n)"
      ],
      "execution_count": 25,
      "outputs": [
        {
          "output_type": "stream",
          "text": [
            "1\n",
            "2\n",
            "3\n",
            "4\n",
            "5\n",
            "6\n",
            "7\n",
            "8\n",
            "9\n",
            "10\n"
          ],
          "name": "stdout"
        }
      ]
    },
    {
      "cell_type": "code",
      "metadata": {
        "id": "q4UizVNbfzF-",
        "colab_type": "code",
        "colab": {
          "base_uri": "https://localhost:8080/",
          "height": 34
        },
        "outputId": "c6207a32-b850-44c7-8f32-f2ffc96e542a"
      },
      "source": [
        "print(\"pratyusha\",\"mini\",sep=\"#\",end=\"@\")\n",
        "print('Me')"
      ],
      "execution_count": 26,
      "outputs": [
        {
          "output_type": "stream",
          "text": [
            "pratyusha#mini@Me\n"
          ],
          "name": "stdout"
        }
      ]
    },
    {
      "cell_type": "code",
      "metadata": {
        "id": "IXI-Ylh5f_yZ",
        "colab_type": "code",
        "colab": {
          "base_uri": "https://localhost:8080/",
          "height": 34
        },
        "outputId": "4487d6e9-1fe1-4408-9ed3-80603e807bd9"
      },
      "source": [
        "list1=[1,2,3,\"mini\"]\n",
        "for n in list1:\n",
        "    print(n,end=\" \")"
      ],
      "execution_count": 27,
      "outputs": [
        {
          "output_type": "stream",
          "text": [
            "1 2 3 mini "
          ],
          "name": "stdout"
        }
      ]
    },
    {
      "cell_type": "code",
      "metadata": {
        "id": "2mXn_IRdgJjZ",
        "colab_type": "code",
        "colab": {
          "base_uri": "https://localhost:8080/",
          "height": 187
        },
        "outputId": "b75e07cb-5bb3-49b7-b732-b8082052c69d"
      },
      "source": [
        "for n in (range(1,11)):\n",
        "    if(n%2!=0):\n",
        "        print(\"***\", n ,\"***\")\n",
        "    else:\n",
        "        print(\"   \",n)"
      ],
      "execution_count": 28,
      "outputs": [
        {
          "output_type": "stream",
          "text": [
            "*** 1 ***\n",
            "    2\n",
            "*** 3 ***\n",
            "    4\n",
            "*** 5 ***\n",
            "    6\n",
            "*** 7 ***\n",
            "    8\n",
            "*** 9 ***\n",
            "    10\n"
          ],
          "name": "stdout"
        }
      ]
    },
    {
      "cell_type": "code",
      "metadata": {
        "id": "5OPK--zGgT1Q",
        "colab_type": "code",
        "colab": {
          "base_uri": "https://localhost:8080/",
          "height": 102
        },
        "outputId": "7b99db08-1aaf-49eb-923d-af4c2e0ac215"
      },
      "source": [
        "list1=[1 ,2,3,4,5 ]\n",
        "while(len(list1)>0):\n",
        "    print(list1)\n",
        "    del list1[-1]"
      ],
      "execution_count": 29,
      "outputs": [
        {
          "output_type": "stream",
          "text": [
            "[1, 2, 3, 4, 5]\n",
            "[1, 2, 3, 4]\n",
            "[1, 2, 3]\n",
            "[1, 2]\n",
            "[1]\n"
          ],
          "name": "stdout"
        }
      ]
    },
    {
      "cell_type": "code",
      "metadata": {
        "id": "IdgowfUzgcz7",
        "colab_type": "code",
        "colab": {
          "base_uri": "https://localhost:8080/",
          "height": 34
        },
        "outputId": "a175da51-b4d8-4c96-93db-273d5c9e6a90"
      },
      "source": [
        "n=5\n",
        "add=0\n",
        "while(n>0):\n",
        "    add+=n\n",
        "    n-=1\n",
        "print(add)"
      ],
      "execution_count": 30,
      "outputs": [
        {
          "output_type": "stream",
          "text": [
            "15\n"
          ],
          "name": "stdout"
        }
      ]
    },
    {
      "cell_type": "code",
      "metadata": {
        "id": "0U8NKJ2bgi8X",
        "colab_type": "code",
        "colab": {
          "base_uri": "https://localhost:8080/",
          "height": 34
        },
        "outputId": "d2685103-97d5-4d8c-ebc6-31e6457c404e"
      },
      "source": [
        "s=dict()\n",
        "s[1]=3\n",
        "s[8]=5\n",
        "print(s)"
      ],
      "execution_count": 31,
      "outputs": [
        {
          "output_type": "stream",
          "text": [
            "{1: 3, 8: 5}\n"
          ],
          "name": "stdout"
        }
      ]
    },
    {
      "cell_type": "code",
      "metadata": {
        "id": "-yvX_wOcgpfy",
        "colab_type": "code",
        "colab": {}
      },
      "source": [
        ""
      ],
      "execution_count": null,
      "outputs": []
    }
  ]
}